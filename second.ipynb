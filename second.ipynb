{
 "cells": [
  {
   "cell_type": "code",
   "execution_count": 4,
   "metadata": {
    "collapsed": true
   },
   "outputs": [],
   "source": [
    "import pandas as pd\n",
    "import matplotlib.pyplot as plt\n",
    "import matplotlib\n",
    "import numpy as np\n",
    "from matplotlib.patches import Polygon\n",
    "from matplotlib.colors import rgb2hex\n",
    "import os"
   ]
  },
  {
   "cell_type": "code",
   "execution_count": 5,
   "metadata": {},
   "outputs": [
    {
     "data": {
      "text/plain": [
       "'C:\\\\Users\\\\Haijin\\\\DataScience\\\\IHME'"
      ]
     },
     "execution_count": 5,
     "metadata": {},
     "output_type": "execute_result"
    }
   ],
   "source": [
    "pwd()"
   ]
  },
  {
   "cell_type": "code",
   "execution_count": 59,
   "metadata": {},
   "outputs": [
    {
     "name": "stdout",
     "output_type": "stream",
     "text": [
      "IHME_USA_COUNTY_CVD_MORTALITY_RATES_1980_2014_ALABAMA_Y2017M05D16.CSV\n",
      "IHME_USA_COUNTY_CVD_MORTALITY_RATES_1980_2014_ALASKA_Y2017M05D16.CSV\n",
      "IHME_USA_COUNTY_CVD_MORTALITY_RATES_1980_2014_ARIZONA_Y2017M05D16.CSV\n",
      "IHME_USA_COUNTY_CVD_MORTALITY_RATES_1980_2014_ARKANSAS_Y2017M05D16.CSV\n",
      "IHME_USA_COUNTY_CVD_MORTALITY_RATES_1980_2014_CALIFORNIA_Y2017M05D16.CSV\n",
      "IHME_USA_COUNTY_CVD_MORTALITY_RATES_1980_2014_COLORADO_Y2017M05D16.CSV\n",
      "IHME_USA_COUNTY_CVD_MORTALITY_RATES_1980_2014_CONNECTICUT_Y2017M05D16.CSV\n",
      "IHME_USA_COUNTY_CVD_MORTALITY_RATES_1980_2014_DELAWARE_Y2017M05D16.CSV\n",
      "IHME_USA_COUNTY_CVD_MORTALITY_RATES_1980_2014_DISTRICT OF COLUMBIA_Y2017M05D16.CSV\n",
      "IHME_USA_COUNTY_CVD_MORTALITY_RATES_1980_2014_FLORIDA_Y2017M05D16.CSV\n",
      "IHME_USA_COUNTY_CVD_MORTALITY_RATES_1980_2014_GEORGIA_Y2017M05D16.CSV\n",
      "IHME_USA_COUNTY_CVD_MORTALITY_RATES_1980_2014_HAWAII_Y2017M05D16.CSV\n",
      "IHME_USA_COUNTY_CVD_MORTALITY_RATES_1980_2014_IDAHO_Y2017M05D16.CSV\n",
      "IHME_USA_COUNTY_CVD_MORTALITY_RATES_1980_2014_ILLINOIS_Y2017M05D16.CSV\n",
      "IHME_USA_COUNTY_CVD_MORTALITY_RATES_1980_2014_INDIANA_Y2017M05D16.CSV\n",
      "IHME_USA_COUNTY_CVD_MORTALITY_RATES_1980_2014_IOWA_Y2017M05D16.CSV\n",
      "IHME_USA_COUNTY_CVD_MORTALITY_RATES_1980_2014_KANSAS_Y2017M05D16.CSV\n",
      "IHME_USA_COUNTY_CVD_MORTALITY_RATES_1980_2014_KENTUCKY_Y2017M05D16.CSV\n",
      "IHME_USA_COUNTY_CVD_MORTALITY_RATES_1980_2014_LOUISIANA_Y2017M05D16.CSV\n",
      "IHME_USA_COUNTY_CVD_MORTALITY_RATES_1980_2014_MAINE_Y2017M05D16.CSV\n",
      "IHME_USA_COUNTY_CVD_MORTALITY_RATES_1980_2014_MARYLAND_Y2017M05D16.CSV\n",
      "IHME_USA_COUNTY_CVD_MORTALITY_RATES_1980_2014_MASSACHUSETTS_Y2017M05D16.CSV\n",
      "IHME_USA_COUNTY_CVD_MORTALITY_RATES_1980_2014_MICHIGAN_Y2017M05D16.CSV\n",
      "IHME_USA_COUNTY_CVD_MORTALITY_RATES_1980_2014_MINNESOTA_Y2017M05D16.CSV\n",
      "IHME_USA_COUNTY_CVD_MORTALITY_RATES_1980_2014_MISSISSIPPI_Y2017M05D16.CSV\n",
      "IHME_USA_COUNTY_CVD_MORTALITY_RATES_1980_2014_MISSOURI_Y2017M05D16.CSV\n",
      "IHME_USA_COUNTY_CVD_MORTALITY_RATES_1980_2014_MONTANA_Y2017M05D16.CSV\n",
      "IHME_USA_COUNTY_CVD_MORTALITY_RATES_1980_2014_NEBRASKA_Y2017M05D16.CSV\n",
      "IHME_USA_COUNTY_CVD_MORTALITY_RATES_1980_2014_NEVADA_Y2017M05D16.CSV\n",
      "IHME_USA_COUNTY_CVD_MORTALITY_RATES_1980_2014_NEW HAMPSHIRE_Y2017M05D16.CSV\n",
      "IHME_USA_COUNTY_CVD_MORTALITY_RATES_1980_2014_NEW JERSEY_Y2017M05D16.CSV\n",
      "IHME_USA_COUNTY_CVD_MORTALITY_RATES_1980_2014_NEW MEXICO_Y2017M05D16.CSV\n",
      "IHME_USA_COUNTY_CVD_MORTALITY_RATES_1980_2014_NEW YORK_Y2017M05D16.CSV\n",
      "IHME_USA_COUNTY_CVD_MORTALITY_RATES_1980_2014_NORTH CAROLINA_Y2017M05D16.CSV\n",
      "IHME_USA_COUNTY_CVD_MORTALITY_RATES_1980_2014_NORTH DAKOTA_Y2017M05D16.CSV\n",
      "IHME_USA_COUNTY_CVD_MORTALITY_RATES_1980_2014_OHIO_Y2017M05D16.CSV\n",
      "IHME_USA_COUNTY_CVD_MORTALITY_RATES_1980_2014_OKLAHOMA_Y2017M05D16.CSV\n",
      "IHME_USA_COUNTY_CVD_MORTALITY_RATES_1980_2014_OREGON_Y2017M05D16.CSV\n",
      "IHME_USA_COUNTY_CVD_MORTALITY_RATES_1980_2014_PENNSYLVANIA_Y2017M05D16.CSV\n",
      "IHME_USA_COUNTY_CVD_MORTALITY_RATES_1980_2014_RHODE ISLAND_Y2017M05D16.CSV\n",
      "IHME_USA_COUNTY_CVD_MORTALITY_RATES_1980_2014_SOUTH CAROLINA_Y2017M05D16.CSV\n",
      "IHME_USA_COUNTY_CVD_MORTALITY_RATES_1980_2014_SOUTH DAKOTA_Y2017M05D16.CSV\n",
      "IHME_USA_COUNTY_CVD_MORTALITY_RATES_1980_2014_TENNESSEE_Y2017M05D16.CSV\n",
      "IHME_USA_COUNTY_CVD_MORTALITY_RATES_1980_2014_TEXAS_Y2017M05D16.CSV\n",
      "IHME_USA_COUNTY_CVD_MORTALITY_RATES_1980_2014_UNITED STATES_Y2017M05D16.CSV\n",
      "IHME_USA_COUNTY_CVD_MORTALITY_RATES_1980_2014_UTAH_Y2017M05D16.CSV\n",
      "IHME_USA_COUNTY_CVD_MORTALITY_RATES_1980_2014_VERMONT_Y2017M05D16.CSV\n",
      "IHME_USA_COUNTY_CVD_MORTALITY_RATES_1980_2014_VIRGINIA_Y2017M05D16.CSV\n",
      "IHME_USA_COUNTY_CVD_MORTALITY_RATES_1980_2014_WASHINGTON_Y2017M05D16.CSV\n",
      "IHME_USA_COUNTY_CVD_MORTALITY_RATES_1980_2014_WEST VIRGINIA_Y2017M05D16.CSV\n",
      "IHME_USA_COUNTY_CVD_MORTALITY_RATES_1980_2014_WISCONSIN_Y2017M05D16.CSV\n",
      "IHME_USA_COUNTY_CVD_MORTALITY_RATES_1980_2014_WYOMING_Y2017M05D16.CSV\n"
     ]
    }
   ],
   "source": [
    "# concat files for all states\n",
    "g=os.walk('./mx/')\n",
    "df=pd.DataFrame()\n",
    "for t in g:\n",
    "    for f in t[2]:\n",
    "        print(f)\n",
    "        df1=pd.read_csv(\"mx/\"+f)\n",
    "        df=pd.concat([df,df1[[\"FIPS\",\"location_name\",\"cause_id\",\"cause_name\",\"sex\",\"year_id\",\"mx\"]]])\n",
    "            "
   ]
  },
  {
   "cell_type": "code",
   "execution_count": 60,
   "metadata": {},
   "outputs": [
    {
     "data": {
      "text/plain": [
       "4359810"
      ]
     },
     "execution_count": 60,
     "metadata": {},
     "output_type": "execute_result"
    }
   ],
   "source": [
    "len(df)"
   ]
  },
  {
   "cell_type": "code",
   "execution_count": 61,
   "metadata": {},
   "outputs": [
    {
     "data": {
      "text/plain": [
       "FIPS             float64\n",
       "location_name     object\n",
       "cause_id           int64\n",
       "cause_name        object\n",
       "sex               object\n",
       "year_id            int64\n",
       "mx               float64\n",
       "dtype: object"
      ]
     },
     "execution_count": 61,
     "metadata": {},
     "output_type": "execute_result"
    }
   ],
   "source": [
    "df.dtypes"
   ]
  },
  {
   "cell_type": "code",
   "execution_count": 62,
   "metadata": {},
   "outputs": [
    {
     "data": {
      "text/html": [
       "<div>\n",
       "<style>\n",
       "    .dataframe thead tr:only-child th {\n",
       "        text-align: right;\n",
       "    }\n",
       "\n",
       "    .dataframe thead th {\n",
       "        text-align: left;\n",
       "    }\n",
       "\n",
       "    .dataframe tbody tr th {\n",
       "        vertical-align: top;\n",
       "    }\n",
       "</style>\n",
       "<table border=\"1\" class=\"dataframe\">\n",
       "  <thead>\n",
       "    <tr style=\"text-align: right;\">\n",
       "      <th></th>\n",
       "      <th>FIPS</th>\n",
       "      <th>location_name</th>\n",
       "      <th>cause_id</th>\n",
       "      <th>cause_name</th>\n",
       "      <th>sex</th>\n",
       "      <th>year_id</th>\n",
       "      <th>mx</th>\n",
       "    </tr>\n",
       "  </thead>\n",
       "  <tbody>\n",
       "    <tr>\n",
       "      <th>0</th>\n",
       "      <td>1.0</td>\n",
       "      <td>Alabama</td>\n",
       "      <td>491</td>\n",
       "      <td>Cardiovascular diseases</td>\n",
       "      <td>Male</td>\n",
       "      <td>1980</td>\n",
       "      <td>674.498324</td>\n",
       "    </tr>\n",
       "    <tr>\n",
       "      <th>1</th>\n",
       "      <td>1.0</td>\n",
       "      <td>Alabama</td>\n",
       "      <td>491</td>\n",
       "      <td>Cardiovascular diseases</td>\n",
       "      <td>Male</td>\n",
       "      <td>1981</td>\n",
       "      <td>664.267500</td>\n",
       "    </tr>\n",
       "    <tr>\n",
       "      <th>2</th>\n",
       "      <td>1.0</td>\n",
       "      <td>Alabama</td>\n",
       "      <td>491</td>\n",
       "      <td>Cardiovascular diseases</td>\n",
       "      <td>Male</td>\n",
       "      <td>1982</td>\n",
       "      <td>640.969676</td>\n",
       "    </tr>\n",
       "    <tr>\n",
       "      <th>3</th>\n",
       "      <td>1.0</td>\n",
       "      <td>Alabama</td>\n",
       "      <td>491</td>\n",
       "      <td>Cardiovascular diseases</td>\n",
       "      <td>Male</td>\n",
       "      <td>1983</td>\n",
       "      <td>636.345490</td>\n",
       "    </tr>\n",
       "    <tr>\n",
       "      <th>4</th>\n",
       "      <td>1.0</td>\n",
       "      <td>Alabama</td>\n",
       "      <td>491</td>\n",
       "      <td>Cardiovascular diseases</td>\n",
       "      <td>Male</td>\n",
       "      <td>1984</td>\n",
       "      <td>630.471981</td>\n",
       "    </tr>\n",
       "  </tbody>\n",
       "</table>\n",
       "</div>"
      ],
      "text/plain": [
       "   FIPS location_name  cause_id               cause_name   sex  year_id  \\\n",
       "0   1.0       Alabama       491  Cardiovascular diseases  Male     1980   \n",
       "1   1.0       Alabama       491  Cardiovascular diseases  Male     1981   \n",
       "2   1.0       Alabama       491  Cardiovascular diseases  Male     1982   \n",
       "3   1.0       Alabama       491  Cardiovascular diseases  Male     1983   \n",
       "4   1.0       Alabama       491  Cardiovascular diseases  Male     1984   \n",
       "\n",
       "           mx  \n",
       "0  674.498324  \n",
       "1  664.267500  \n",
       "2  640.969676  \n",
       "3  636.345490  \n",
       "4  630.471981  "
      ]
     },
     "execution_count": 62,
     "metadata": {},
     "output_type": "execute_result"
    }
   ],
   "source": [
    "df.head()"
   ]
  },
  {
   "cell_type": "code",
   "execution_count": 64,
   "metadata": {
    "collapsed": true
   },
   "outputs": [],
   "source": [
    "df_location=df[[\"FIPS\",\"location_name\"]].drop_duplicates()"
   ]
  },
  {
   "cell_type": "code",
   "execution_count": 65,
   "metadata": {},
   "outputs": [
    {
     "data": {
      "text/plain": [
       "3194"
      ]
     },
     "execution_count": 65,
     "metadata": {},
     "output_type": "execute_result"
    }
   ],
   "source": [
    "len(df_location)"
   ]
  },
  {
   "cell_type": "code",
   "execution_count": 71,
   "metadata": {},
   "outputs": [],
   "source": [
    "states=df_location[df_location[\"FIPS\"] < 100]"
   ]
  },
  {
   "cell_type": "code",
   "execution_count": 72,
   "metadata": {},
   "outputs": [
    {
     "data": {
      "text/html": [
       "<div>\n",
       "<style>\n",
       "    .dataframe thead tr:only-child th {\n",
       "        text-align: right;\n",
       "    }\n",
       "\n",
       "    .dataframe thead th {\n",
       "        text-align: left;\n",
       "    }\n",
       "\n",
       "    .dataframe tbody tr th {\n",
       "        vertical-align: top;\n",
       "    }\n",
       "</style>\n",
       "<table border=\"1\" class=\"dataframe\">\n",
       "  <thead>\n",
       "    <tr style=\"text-align: right;\">\n",
       "      <th></th>\n",
       "      <th>FIPS</th>\n",
       "      <th>location_name</th>\n",
       "    </tr>\n",
       "  </thead>\n",
       "  <tbody>\n",
       "    <tr>\n",
       "      <th>0</th>\n",
       "      <td>1.0</td>\n",
       "      <td>Alabama</td>\n",
       "    </tr>\n",
       "    <tr>\n",
       "      <th>0</th>\n",
       "      <td>2.0</td>\n",
       "      <td>Alaska</td>\n",
       "    </tr>\n",
       "    <tr>\n",
       "      <th>0</th>\n",
       "      <td>4.0</td>\n",
       "      <td>Arizona</td>\n",
       "    </tr>\n",
       "    <tr>\n",
       "      <th>0</th>\n",
       "      <td>5.0</td>\n",
       "      <td>Arkansas</td>\n",
       "    </tr>\n",
       "    <tr>\n",
       "      <th>0</th>\n",
       "      <td>6.0</td>\n",
       "      <td>California</td>\n",
       "    </tr>\n",
       "  </tbody>\n",
       "</table>\n",
       "</div>"
      ],
      "text/plain": [
       "   FIPS location_name\n",
       "0   1.0       Alabama\n",
       "0   2.0        Alaska\n",
       "0   4.0       Arizona\n",
       "0   5.0      Arkansas\n",
       "0   6.0    California"
      ]
     },
     "execution_count": 72,
     "metadata": {},
     "output_type": "execute_result"
    }
   ],
   "source": [
    "states.head()"
   ]
  },
  {
   "cell_type": "code",
   "execution_count": 73,
   "metadata": {
    "collapsed": true
   },
   "outputs": [],
   "source": [
    "obesity=pd.read_csv(\"state_obesity.csv\")"
   ]
  },
  {
   "cell_type": "code",
   "execution_count": 74,
   "metadata": {},
   "outputs": [
    {
     "data": {
      "text/html": [
       "<div>\n",
       "<style>\n",
       "    .dataframe thead tr:only-child th {\n",
       "        text-align: right;\n",
       "    }\n",
       "\n",
       "    .dataframe thead th {\n",
       "        text-align: left;\n",
       "    }\n",
       "\n",
       "    .dataframe tbody tr th {\n",
       "        vertical-align: top;\n",
       "    }\n",
       "</style>\n",
       "<table border=\"1\" class=\"dataframe\">\n",
       "  <thead>\n",
       "    <tr style=\"text-align: right;\">\n",
       "      <th></th>\n",
       "      <th>State</th>\n",
       "      <th>Obesity</th>\n",
       "    </tr>\n",
       "  </thead>\n",
       "  <tbody>\n",
       "    <tr>\n",
       "      <th>0</th>\n",
       "      <td>West Virginia</td>\n",
       "      <td>37.7</td>\n",
       "    </tr>\n",
       "    <tr>\n",
       "      <th>1</th>\n",
       "      <td>Mississippi</td>\n",
       "      <td>37.3</td>\n",
       "    </tr>\n",
       "    <tr>\n",
       "      <th>2</th>\n",
       "      <td>Alabama</td>\n",
       "      <td>35.7</td>\n",
       "    </tr>\n",
       "    <tr>\n",
       "      <th>3</th>\n",
       "      <td>Arkansass</td>\n",
       "      <td>35.7</td>\n",
       "    </tr>\n",
       "    <tr>\n",
       "      <th>4</th>\n",
       "      <td>Louisiana</td>\n",
       "      <td>35.5</td>\n",
       "    </tr>\n",
       "  </tbody>\n",
       "</table>\n",
       "</div>"
      ],
      "text/plain": [
       "           State   Obesity\n",
       "0  West Virginia      37.7\n",
       "1    Mississippi      37.3\n",
       "2        Alabama      35.7\n",
       "3      Arkansass      35.7\n",
       "4      Louisiana      35.5"
      ]
     },
     "execution_count": 74,
     "metadata": {},
     "output_type": "execute_result"
    }
   ],
   "source": [
    "obesity.head()"
   ]
  },
  {
   "cell_type": "code",
   "execution_count": 75,
   "metadata": {
    "collapsed": true
   },
   "outputs": [],
   "source": [
    "df2=df[ (df[\"FIPS\"] < 100) & (df[\"sex\"]==\"Male\") & (df[\"year_id\"]==2012) & (df[\"cause_id\"]==491) ]"
   ]
  },
  {
   "cell_type": "code",
   "execution_count": 76,
   "metadata": {},
   "outputs": [
    {
     "data": {
      "text/plain": [
       "51"
      ]
     },
     "execution_count": 76,
     "metadata": {},
     "output_type": "execute_result"
    }
   ],
   "source": [
    "len(df2)"
   ]
  },
  {
   "cell_type": "code",
   "execution_count": 78,
   "metadata": {},
   "outputs": [],
   "source": [
    "df3=df2.merge(obesity, left_on=\"location_name\", right_on=\"State\")"
   ]
  },
  {
   "cell_type": "code",
   "execution_count": 80,
   "metadata": {},
   "outputs": [
    {
     "data": {
      "text/plain": [
       "array(['FIPS', 'location_name', 'cause_id', 'cause_name', 'sex', 'year_id',\n",
       "       'mx', 'State', ' Obesity'], dtype=object)"
      ]
     },
     "execution_count": 80,
     "metadata": {},
     "output_type": "execute_result"
    }
   ],
   "source": [
    "df3.columns.values"
   ]
  },
  {
   "cell_type": "code",
   "execution_count": 88,
   "metadata": {},
   "outputs": [
    {
     "data": {
      "image/png": "[encoded data removed]",
      "text/plain": [
       "<matplotlib.figure.Figure at 0x1ee008b5a90>"
      ]
     },
     "metadata": {},
     "output_type": "display_data"
    }
   ],
   "source": [
    "plt.scatter(df3[\" Obesity\"],df3[\"mx\"])\n",
    "plt.xlabel(\"Obesity rate\")\n",
    "plt.ylabel(\"Mortality rate\")\n",
    "plt.legend()\n",
    "plt.show()"
   ]
  },
  {
   "cell_type": "code",
   "execution_count": null,
   "metadata": {
    "collapsed": true
   },
   "outputs": [],
   "source": [
    "# there seems a correlation, especially when obesite rate is high."
   ]
  },
  {
   "cell_type": "code",
   "execution_count": null,
   "metadata": {
    "collapsed": true
   },
   "outputs": [],
   "source": []
  }
 ],
 "metadata": {
  "kernelspec": {
   "display_name": "Python 3",
   "language": "python",
   "name": "python3"
  },
  "language_info": {
   "codemirror_mode": {
    "name": "ipython",
    "version": 3
   },
   "file_extension": ".py",
   "mimetype": "text/x-python",
   "name": "python",
   "nbconvert_exporter": "python",
   "pygments_lexer": "ipython3",
   "version": "3.6.3"
  }
 },
 "nbformat": 4,
 "nbformat_minor": 2
}
